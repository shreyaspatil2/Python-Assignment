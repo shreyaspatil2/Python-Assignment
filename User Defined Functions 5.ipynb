{
 "cells": [
  {
   "cell_type": "markdown",
   "metadata": {},
   "source": [
    "## Q. Create an array. Take input number from user. Find it in array. Give its location. Give its count. Replace the number with its squareroot."
   ]
  },
  {
   "cell_type": "code",
   "execution_count": 1,
   "metadata": {},
   "outputs": [
    {
     "name": "stdout",
     "output_type": "stream",
     "text": [
      "The originial array is\n",
      " [15, 38, 29, 7, 26, 41, 21, 30, 38, 34, 1, 20, 45, 27, 50, 43, 22, 14, 43, 14, 48, 15, 23, 1, 26, 44, 17, 26, 45, 29, 18, 48, 48, 31, 16, 41, 37, 21, 21, 15, 44, 50, 49, 44, 12, 46, 42, 8, 13, 29, 9, 44, 48, 50, 26, 14, 1, 23, 43, 49, 31, 44, 2, 28, 6, 19, 50, 8, 22, 32, 42, 35, 34, 1, 12, 36, 12, 25, 43, 42, 43, 47, 22, 38, 27, 25, 17, 34, 33, 50, 26, 37, 17, 41, 49, 12, 11, 21, 1, 16]\n",
      "\n",
      "Enter a number:43\n",
      "43 occures 5 times in the Array.\n",
      "\n",
      "43 occures at indices [15, 18, 58, 78, 80] .\n",
      "\n",
      "After replacing 43 by its square root 6.557438524302 the new array will be\n",
      "\n",
      " [15, 38, 29, 7, 26, 41, 21, 30, 38, 34, 1, 20, 45, 27, 50, 6.557438524302, 22, 14, 6.557438524302, 14, 48, 15, 23, 1, 26, 44, 17, 26, 45, 29, 18, 48, 48, 31, 16, 41, 37, 21, 21, 15, 44, 50, 49, 44, 12, 46, 42, 8, 13, 29, 9, 44, 48, 50, 26, 14, 1, 23, 6.557438524302, 49, 31, 44, 2, 28, 6, 19, 50, 8, 22, 32, 42, 35, 34, 1, 12, 36, 12, 25, 6.557438524302, 42, 6.557438524302, 47, 22, 38, 27, 25, 17, 34, 33, 50, 26, 37, 17, 41, 49, 12, 11, 21, 1, 16]\n"
     ]
    }
   ],
   "source": [
    "def Searcher():\n",
    "    #importing required libraries\n",
    "    import numpy as np\n",
    "    import math\n",
    "    \n",
    "    #creating array containg 100 integers from 1 to 50\n",
    "    Array = []\n",
    "    for i in range(0,100):\n",
    "        Array.append(np.random.randint(1,51))\n",
    "    print(\"The originial array is\\n\", Array[:])   \n",
    "    \n",
    "    #taking an input from user\n",
    "    a = int(input(\"\\nEnter a number:\"))\n",
    "    if a>50:\n",
    "        print(\"Please enter a number from 1 to 50.\\n\")\n",
    "        \n",
    "    #getting count and location of the number in the array and replacing it with its squareroot    \n",
    "    if a in Array:\n",
    "        print(a, \"occures\", Array.count(a),\"times in the Array.\\n\")\n",
    "        indices = [i for i in range(len(Array)) if Array[i] == a]\n",
    "        print(a,\"occures at indices\", indices[:],\".\\n\")\n",
    "        for x in indices:\n",
    "            Array[x] = math.sqrt(a)\n",
    "        print(\"After replacing\", a,\"by its square root\", math.sqrt(a),\"the new array will be\\n\\n\",Array[:]) \n",
    "    else: \n",
    "        print(a,\"does not exist in Array.\")\n",
    "Searcher()"
   ]
  },
  {
   "cell_type": "markdown",
   "metadata": {},
   "source": [
    "## Q. Take two 2-dimentional arrays and merge them with increasing order of numbers."
   ]
  },
  {
   "cell_type": "code",
   "execution_count": 2,
   "metadata": {},
   "outputs": [
    {
     "name": "stdout",
     "output_type": "stream",
     "text": [
      "Merged array of\n",
      " [[ 6 17 18]\n",
      " [ 7  9 12]\n",
      " [11 18  4]] \n",
      "and\n",
      " [[12  1 19]\n",
      " [ 2 11  2]\n",
      " [ 1  2 14]] \n",
      "is:\n",
      " [[ 1  1  2]\n",
      " [ 2  2  4]\n",
      " [ 6  7  9]\n",
      " [11 11 12]\n",
      " [12 14 17]\n",
      " [18 18 19]]\n"
     ]
    }
   ],
   "source": [
    "def Merger():\n",
    "    import numpy as np\n",
    "    import pandas as pd\n",
    "    array1 = []\n",
    "    array2 = []\n",
    "    for i in range(0,9):\n",
    "        array1.append(np.random.randint(1,20))\n",
    "        array2.append(np.random.randint(1,20))\n",
    "    a = np.array(array1)\n",
    "    b = np.array(array2)\n",
    "    array_2D_1 = a.reshape((3,3))\n",
    "    array_2D_2 = b.reshape((3,3))\n",
    "    final = []\n",
    "    for x in array_2D_1:\n",
    "        for y in x:\n",
    "            final.append(y)\n",
    "    for x in array_2D_2:\n",
    "        for y in x:\n",
    "            final.append(y)\n",
    "    final.sort()  \n",
    "    sorted_final = np.array(final).reshape(6,3)\n",
    "    print(\"Merged array of\\n\", array_2D_1, \"\\nand\\n\", array_2D_2, \"\\nis:\\n\", sorted_final)\n",
    "Merger()"
   ]
  }
 ],
 "metadata": {
  "kernelspec": {
   "display_name": "Python 3",
   "language": "python",
   "name": "python3"
  },
  "language_info": {
   "codemirror_mode": {
    "name": "ipython",
    "version": 3
   },
   "file_extension": ".py",
   "mimetype": "text/x-python",
   "name": "python",
   "nbconvert_exporter": "python",
   "pygments_lexer": "ipython3",
   "version": "3.7.4"
  }
 },
 "nbformat": 4,
 "nbformat_minor": 2
}
