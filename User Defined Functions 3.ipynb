{
 "cells": [
  {
   "cell_type": "code",
   "execution_count": 1,
   "metadata": {},
   "outputs": [],
   "source": [
    "def resume():\n",
    "    \n",
    "    \"\"\" This function creates your resume \"\"\"\n",
    "    \n",
    "    gender = input(\"Select Your Gender:(M/F) \")\n",
    "    fname = input(\"Enter Your First Name: \")\n",
    "    mname = input(\"Enter Your Middle Name: \")\n",
    "    sname = input(\"Enter Your Sirname Name: \")\n",
    "    edu = input(\"Enter Highest Education Qualification: \")\n",
    "    school = input(\"Enter Institute Name: \")\n",
    "    marks = input(\"Enter Marks/Grades/Pointer/Percentage: \")\n",
    "    info = input(\"Brife About Yourself In Two Lines: \")\n",
    "    skills = input(\"Enter Your Top Skills: \")\n",
    "    hobby = input(\"Enter Your Hobbies: \")\n",
    "    if gender is \"M\":\n",
    "        print(\"\\n\\n\\nNAME: Mr.\", fname, mname, sname)\n",
    "    elif gender is \"F\":\n",
    "        print(\"\\n\\n\\nNAME: Mrs.\", fname, mname, sname)\n",
    "    print(\"\\nEDUCATIONAL QUALIFICATION:\", edu ,\"\\n\\nMARKS OBTAINED:\", marks,\"\\n\\nINSTITUTION:\", school,\"\\n\\nABOUT:\\n\\t\", info,\"\\n\\nSKILLS:\", skills,\"\\n\\nHOBBIES:\", hobby)"
   ]
  },
  {
   "cell_type": "code",
   "execution_count": 2,
   "metadata": {},
   "outputs": [
    {
     "name": "stdout",
     "output_type": "stream",
     "text": [
      "Select Your Gender:(M/F) M\n",
      "Enter Your First Name: Shreyas\n",
      "Enter Your Middle Name: Ranjit\n",
      "Enter Your Sirname Name: Patil\n",
      "Enter Highest Education Qualification: M.Sc. Applied Statistics\n",
      "Enter Institute Name: Symbiosis Statistical Institute, Pune\n",
      "Enter Marks/Grades/Pointer/Percentage: 75%\n",
      "Brife About Yourself In Two Lines: Good knowledge of statistical methods and machine learning techniques. Future Data Scientist. Very hardworking individual.\n",
      "Enter Your Top Skills: Python, Statistics, Machine Learning\n",
      "Enter Your Hobbies: Cricket, Singing, Fitness\n",
      "\n",
      "\n",
      "\n",
      "NAME: Mr. Shreyas Ranjit Patil\n",
      "\n",
      "EDUCATIONAL QUALIFICATION: M.Sc. Applied Statistics \n",
      "\n",
      "MARKS OBTAINED: 75% \n",
      "\n",
      "INSTITUTION: Symbiosis Statistical Institute, Pune \n",
      "\n",
      "ABOUT:\n",
      "\t Good knowledge of statistical methods and machine learning techniques. Future Data Scientist. Very hardworking individual. \n",
      "\n",
      "SKILLS: Python, Statistics, Machine Learning \n",
      "\n",
      "HOBBIES: Cricket, Singing, Fitness\n"
     ]
    }
   ],
   "source": [
    "resume()"
   ]
  },
  {
   "cell_type": "code",
   "execution_count": 24,
   "metadata": {},
   "outputs": [
    {
     "name": "stdout",
     "output_type": "stream",
     "text": [
      "Enter Two Numbers with a Space between them: 45 60\n",
      "Multiplication of 45 and 60 is 2700\n"
     ]
    }
   ],
   "source": [
    "def str_inpt():\n",
    "    \n",
    "    \"\"\"  This function multipies two number with ony one input \"\"\"\n",
    "    \n",
    "    a = input(\"Enter Two Numbers with a Space between them: \")\n",
    "    b = a.split(\" \")\n",
    "    print(\"Multiplication of\", b[0], \"and\" ,b[1], \"is\", int(b[0])*int(b[1]))\n",
    "str_inpt()    "
   ]
  }
 ],
 "metadata": {
  "kernelspec": {
   "display_name": "Python 3",
   "language": "python",
   "name": "python3"
  },
  "language_info": {
   "codemirror_mode": {
    "name": "ipython",
    "version": 3
   },
   "file_extension": ".py",
   "mimetype": "text/x-python",
   "name": "python",
   "nbconvert_exporter": "python",
   "pygments_lexer": "ipython3",
   "version": "3.7.4"
  }
 },
 "nbformat": 4,
 "nbformat_minor": 2
}
