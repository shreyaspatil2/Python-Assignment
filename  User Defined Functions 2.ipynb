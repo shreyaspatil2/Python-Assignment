{
 "cells": [
  {
   "cell_type": "markdown",
   "metadata": {},
   "source": [
    "## wap to identify first 100 prime numbers."
   ]
  },
  {
   "cell_type": "code",
   "execution_count": 1,
   "metadata": {},
   "outputs": [
    {
     "name": "stdout",
     "output_type": "stream",
     "text": [
      "First 100 Prime Numbers are as follows:\n",
      " [2, 3, 5, 7, 11, 13, 17, 19, 23, 29, 31, 37, 41, 43, 47, 53, 59, 61, 67, 71, 73, 79, 83, 89, 97, 101, 103, 107, 109, 113, 127, 131, 137, 139, 149, 151, 157, 163, 167, 173, 179, 181, 191, 193, 197, 199, 211, 223, 227, 229, 233, 239, 241, 251, 257, 263, 269, 271, 277, 281, 283, 293, 307, 311, 313, 317, 331, 337, 347, 349, 353, 359, 367, 373, 379, 383, 389, 397, 401, 409, 419, 421, 431, 433, 439, 443, 449, 457, 461, 463, 467, 479, 487, 491, 499, 503, 509, 521, 523, 541]\n"
     ]
    }
   ],
   "source": [
    "def prime(n):\n",
    "    if n<=1:\n",
    "        return False\n",
    "    for i in range (2, (n//2)+1):\n",
    "        if n%i==0:\n",
    "            return False\n",
    "    return True\n",
    "\n",
    "def prime_list():\n",
    "    prime_list = list()\n",
    "    i = 2\n",
    "    while len(prime_list)<100:\n",
    "        if prime(i):\n",
    "            prime_list.append(i)\n",
    "        i+=1\n",
    "    print(\"First 100 Prime Numbers are as follows:\\n\",prime_list)   \n",
    "\n",
    "prime_list()    "
   ]
  },
  {
   "cell_type": "markdown",
   "metadata": {},
   "source": [
    "## wap to reverse the digits of a number and return its squareroot."
   ]
  },
  {
   "cell_type": "code",
   "execution_count": 2,
   "metadata": {},
   "outputs": [
    {
     "name": "stdout",
     "output_type": "stream",
     "text": [
      "Square Root of 1357 after reversing its digits is 86.78133439859057\n"
     ]
    }
   ],
   "source": [
    "def reverse_root(n):\n",
    "    a = n\n",
    "    m = 0\n",
    "    while n!=0:\n",
    "        m *= 10\n",
    "        m += n%10\n",
    "        n -= n%10\n",
    "        n = n/10\n",
    "    print(\"Square Root of\",a,\"after reversing its digits is\",m**0.5)\n",
    "\n",
    "reverse_root(1357)"
   ]
  },
  {
   "cell_type": "markdown",
   "metadata": {},
   "source": [
    "## wap to create a small database of numbers. Identify prime, odd, even numbers and add the sum of even numbers."
   ]
  },
  {
   "cell_type": "code",
   "execution_count": 3,
   "metadata": {},
   "outputs": [
    {
     "name": "stdout",
     "output_type": "stream",
     "text": [
      "Prime Numbers from the database are: [127, 587, 131, 433, 17, 83, 43, 47, 383, 107, 383, 79, 877, 691, 109, 61, 13, 971, 193]\n",
      "\n",
      "Even Numbers from the database are: [822, 684, 374, 288, 52, 262, 894, 190, 470, 596, 454, 800, 470, 298, 312, 16, 58, 842, 260, 136, 754, 180, 20, 722, 978, 842, 348, 582, 218, 76, 186, 174, 68, 922, 80, 996, 164, 450, 686, 298, 582, 576, 800, 240, 870, 108, 576]\n",
      "\n",
      "Odd Numbers from the database are: [129, 817, 943, 127, 587, 131, 415, 433, 407, 17, 83, 305, 123, 333, 117, 623, 43, 237, 47, 895, 383, 107, 609, 771, 119, 383, 965, 79, 531, 91, 363, 877, 961, 869, 691, 893, 485, 109, 171, 365, 963, 61, 767, 543, 483, 153, 465, 13, 971, 539, 185, 633, 193]\n",
      "\n",
      "Sum of Even Numbers from the database is: 20774\n"
     ]
    }
   ],
   "source": [
    "def program():\n",
    "    import random\n",
    "    small_database = list(random.randint(1, 1000) for i in range(100))\n",
    "    p, e, o =[], [], []\n",
    "    for i in small_database:\n",
    "        if prime(i):                      #prime() is defined in first cell\n",
    "            p.append(i)   \n",
    "        if i%2==0:\n",
    "            e.append(i)\n",
    "        else:\n",
    "            o.append(i)\n",
    "    print(\"Prime Numbers from the database are:\", p)\n",
    "    print(\"\\nEven Numbers from the database are:\",e)\n",
    "    print(\"\\nOdd Numbers from the database are:\",o)\n",
    "    print(\"\\nSum of Even Numbers from the database is:\", sum(e))\n",
    "\n",
    "program()    "
   ]
  },
  {
   "cell_type": "markdown",
   "metadata": {},
   "source": [
    "## wap to sort an array with only one while loop."
   ]
  },
  {
   "cell_type": "code",
   "execution_count": 4,
   "metadata": {},
   "outputs": [
    {
     "name": "stdout",
     "output_type": "stream",
     "text": [
      "Original array is\n",
      " [70, 28, 53, 60, 46, 81, 24, 76, 36, 94, 2, 69, 75, 60, 70]\n",
      "\n",
      "Sorted array is\n",
      " [2, 24, 28, 36, 46, 53, 60, 60, 69, 70, 70, 75, 76, 81, 94]\n"
     ]
    }
   ],
   "source": [
    "def program4():\n",
    "    import numpy as np\n",
    "    array = list(np.random.randint(1,100) for i in range(15))\n",
    "    print(\"Original array is\\n\", array)\n",
    "    i = 0\n",
    "    while True:\n",
    "        if array[i]>array[i+1]:\n",
    "            array[i],array[i+1]=array[i+1],array[i]\n",
    "            i=0\n",
    "            continue\n",
    "        i+=1\n",
    "        if i==len(array)-1:\n",
    "            break\n",
    "    print(\"\\nSorted array is\\n\", array)\n",
    "        \n",
    "program4()"
   ]
  }
 ],
 "metadata": {
  "kernelspec": {
   "display_name": "Python 3",
   "language": "python",
   "name": "python3"
  },
  "language_info": {
   "codemirror_mode": {
    "name": "ipython",
    "version": 3
   },
   "file_extension": ".py",
   "mimetype": "text/x-python",
   "name": "python",
   "nbconvert_exporter": "python",
   "pygments_lexer": "ipython3",
   "version": "3.7.4"
  }
 },
 "nbformat": 4,
 "nbformat_minor": 2
}
