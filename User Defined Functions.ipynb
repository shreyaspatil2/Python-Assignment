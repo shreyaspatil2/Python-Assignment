{
 "cells": [
  {
   "cell_type": "code",
   "execution_count": null,
   "metadata": {},
   "outputs": [],
   "source": [
    "def cal():\n",
    "    \n",
    "    \"\"\" This Function Works As A Calculator For Two Numbers \"\"\"\n",
    "    \n",
    "    n1 = int(input(\"Enter 1st Number: \"))\n",
    "    n2 = int(input(\"Enter 2nd Number: \"))\n",
    "    opperation = int(input(\"Select 1 for Addition/ 2 for Substraction/ 3 for Multiplication/ 4 for Division: \"))\n",
    "    if opperation is 1:\n",
    "        print( n1, \"+\", n2, \"=\", n1 + n2 )\n",
    "    elif opperation is 2:\n",
    "        print( n1, \"-\", n2, \"=\", n1 - n2 )   \n",
    "    elif opperation is 3:\n",
    "        print( n1, \"*\", n2, \"=\", n1 * n2 ) \n",
    "    elif opperation is 4:\n",
    "        print( n1, \"/\", n2, \"=\", n1 / n2 )    \n",
    "        \n",
    "print(cal.__doc__)\n",
    "cal()"
   ]
  },
  {
   "cell_type": "code",
   "execution_count": 12,
   "metadata": {},
   "outputs": [
    {
     "name": "stdout",
     "output_type": "stream",
     "text": [
      " This Function Calculates Addition, Substraction, Multiplication, Division On A List Of Numbers \n",
      "Enter No. of Entries: 3\n",
      "Enter a Number: 60\n",
      "Enter a Number: 2\n",
      "Enter a Number: 15\n",
      "List of Numbers: ['60', '2', '15']\n",
      "Addition: 77.0 \n",
      "Substraction: 43.0 \n",
      "Multiplication: 1800.0 \n",
      "Division: 2.0\n"
     ]
    }
   ],
   "source": [
    "def calculator():\n",
    "    \n",
    "    \"\"\" This Function Calculates Addition, Substraction, Multiplication, Division On A List Of Numbers \"\"\"\n",
    "    \n",
    "    r = int(input(\"Enter No. of Entries: \"))\n",
    "    num = []\n",
    "    a = 0\n",
    "    m = 1\n",
    "    for i in range(r):\n",
    "        n = input(\"Enter a Number: \")\n",
    "        num.append(n)\n",
    "        a = a + float(num[i])\n",
    "        m = m * float(num[i])\n",
    "    s = float(num[0])\n",
    "    d = float(num[0])\n",
    "    for i in range(r-1):    \n",
    "        s = s - float(num[i+1])\n",
    "        d = d / float(num[i+1])\n",
    "    print(\"List of Numbers:\", num)\n",
    "    print (\"Addition:\", a, \"\\nSubstraction:\", s, \"\\nMultiplication:\", m,\"\\nDivision:\", d )\n",
    "    \n",
    "print(calculator.__doc__)\n",
    "calculator()"
   ]
  },
  {
   "cell_type": "code",
   "execution_count": 4,
   "metadata": {},
   "outputs": [
    {
     "name": "stdout",
     "output_type": "stream",
     "text": [
      " This Function Can Calculate Distance/ Speed/ Time \n",
      "Enter  ?  infront of the value you want to calculate \n",
      "Enter Distance: 4\n",
      "Enter Time: 5\n",
      "Enter Speed: 5\n"
     ]
    }
   ],
   "source": [
    "def DTS():\n",
    "    \"\"\" This Function Can Calculate Distance/ Speed/ Time \"\"\"\n",
    "    print(\"Enter  ?  infront of the value you want to calculate \")\n",
    "    D = input(\"Enter Distance: \")\n",
    "    T = input(\"Enter Time: \")\n",
    "    S = input(\"Enter Speed: \")\n",
    "    if S is \"?\":\n",
    "        print(\"Speed is \", float(D)/float(T))\n",
    "    elif D is \"?\":\n",
    "        print(\"Distance is \", float(S)*float(T))\n",
    "    elif T is \"?\":\n",
    "        print(\"Time is \", float(D)/float(S))\n",
    "print(DTS.__doc__)\n",
    "DTS()"
   ]
  },
  {
   "cell_type": "code",
   "execution_count": null,
   "metadata": {},
   "outputs": [],
   "source": []
  }
 ],
 "metadata": {
  "kernelspec": {
   "display_name": "Python 3",
   "language": "python",
   "name": "python3"
  },
  "language_info": {
   "codemirror_mode": {
    "name": "ipython",
    "version": 3
   },
   "file_extension": ".py",
   "mimetype": "text/x-python",
   "name": "python",
   "nbconvert_exporter": "python",
   "pygments_lexer": "ipython3",
   "version": "3.7.4"
  }
 },
 "nbformat": 4,
 "nbformat_minor": 2
}
