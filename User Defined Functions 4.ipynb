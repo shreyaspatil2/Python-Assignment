{
 "cells": [
  {
   "cell_type": "markdown",
   "metadata": {},
   "source": [
    "## (1)Create a upper triangle"
   ]
  },
  {
   "cell_type": "code",
   "execution_count": 1,
   "metadata": {},
   "outputs": [
    {
     "name": "stdout",
     "output_type": "stream",
     "text": [
      "Enter number of lines: 5\n",
      "*****\n",
      "****\n",
      "***\n",
      "**\n",
      "*\n"
     ]
    }
   ],
   "source": [
    "def f1():\n",
    "    x=int(input(\"Enter number of lines: \"))\n",
    "    for i in range(x,0,-1):\n",
    "          print(\"*\"*i)\n",
    "f1()"
   ]
  },
  {
   "cell_type": "markdown",
   "metadata": {},
   "source": [
    "## (2)Create a pyramid "
   ]
  },
  {
   "cell_type": "code",
   "execution_count": 2,
   "metadata": {},
   "outputs": [
    {
     "name": "stdout",
     "output_type": "stream",
     "text": [
      "          *\n",
      "         ***\n",
      "        *****\n",
      "       *******\n",
      "      *********\n",
      "     ***********\n",
      "    *************\n",
      "   ***************\n",
      "  *****************\n",
      " *******************\n"
     ]
    }
   ],
   "source": [
    "def f2(x):\n",
    "    \"\"\"For pyramid triangle\"\"\"\n",
    "    print(\" \"*(x-1),\"*\")\n",
    "    for i in range(1,x):\n",
    "        print(\" \"*(x-i-1),\"*\"*(((i+1)*2)-1))\n",
    "f2(10)"
   ]
  },
  {
   "cell_type": "markdown",
   "metadata": {},
   "source": [
    "## (3)Write a function which takes input as a string and in the output it gives \n",
    "* (a).Length of string\n",
    "* (b).Identifies it as a general statement or question."
   ]
  },
  {
   "cell_type": "code",
   "execution_count": 3,
   "metadata": {},
   "outputs": [
    {
     "name": "stdout",
     "output_type": "stream",
     "text": [
      "Enter a Sentence: What is your name?\n",
      "\n",
      "Length of the string is: 18\n",
      "\n",
      "You Entered a Question.\n"
     ]
    }
   ],
   "source": [
    "def f3():\n",
    "    s=input(\"Enter a Sentence: \")\n",
    "    print(\"\\nLength of the string is:\", len(s))\n",
    "    if \"?\" in s:\n",
    "        print(\"\\nYou Entered a Question.\")\n",
    "    else :\n",
    "        print(\"\\nYou Entered a General Statement.\")   \n",
    "f3()"
   ]
  }
 ],
 "metadata": {
  "kernelspec": {
   "display_name": "Python 3",
   "language": "python",
   "name": "python3"
  },
  "language_info": {
   "codemirror_mode": {
    "name": "ipython",
    "version": 3
   },
   "file_extension": ".py",
   "mimetype": "text/x-python",
   "name": "python",
   "nbconvert_exporter": "python",
   "pygments_lexer": "ipython3",
   "version": "3.7.4"
  }
 },
 "nbformat": 4,
 "nbformat_minor": 4
}
